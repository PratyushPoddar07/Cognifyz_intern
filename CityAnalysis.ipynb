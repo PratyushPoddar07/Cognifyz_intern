{
 "cells": [
  {
   "cell_type": "code",
   "execution_count": 1,
   "id": "3c2c7ab0-1f1e-4e0b-b914-e7cf9d2f7b69",
   "metadata": {},
   "outputs": [],
   "source": [
    "import pandas as pd\n"
   ]
  },
  {
   "cell_type": "code",
   "execution_count": 3,
   "id": "2f1c0203-5466-4546-94a0-683953378d53",
   "metadata": {},
   "outputs": [],
   "source": [
    "df = pd.read_csv('Dataset .csv')"
   ]
  },
  {
   "cell_type": "code",
   "execution_count": 5,
   "id": "ff812f19-406c-4902-8210-6dbffec06bf6",
   "metadata": {},
   "outputs": [
    {
     "data": {
      "text/plain": [
       "New Delhi           5473\n",
       "Gurgaon             1118\n",
       "Noida               1080\n",
       "Faridabad            251\n",
       "Ghaziabad             25\n",
       "                    ... \n",
       "Panchkula              1\n",
       "Mc Millan              1\n",
       "Mayfield               1\n",
       "Macedon                1\n",
       "Vineland Station       1\n",
       "Name: City, Length: 141, dtype: int64"
      ]
     },
     "execution_count": 5,
     "metadata": {},
     "output_type": "execute_result"
    }
   ],
   "source": [
    "city_rest_counts = df['City'].value_counts()\n",
    "city_rest_counts"
   ]
  },
  {
   "cell_type": "code",
   "execution_count": 8,
   "id": "88c744c9-e026-4a16-8d5d-ac85befc3c1b",
   "metadata": {},
   "outputs": [
    {
     "data": {
      "text/plain": [
       "'New Delhi'"
      ]
     },
     "execution_count": 8,
     "metadata": {},
     "output_type": "execute_result"
    }
   ],
   "source": [
    "city_with_most_rest = city_rest_counts.idxmax()\n",
    "city_with_most_rest"
   ]
  },
  {
   "cell_type": "code",
   "execution_count": 35,
   "id": "17153fd1-e2b0-4066-a378-ea77c8d29346",
   "metadata": {},
   "outputs": [
    {
     "data": {
      "text/plain": [
       "5473"
      ]
     },
     "execution_count": 35,
     "metadata": {},
     "output_type": "execute_result"
    }
   ],
   "source": [
    "most_rest_count = city_rest_counts.max()\n",
    "most_rest_count"
   ]
  },
  {
   "cell_type": "code",
   "execution_count": 36,
   "id": "dff95147-997f-4f8b-b6d4-646ba0c47e41",
   "metadata": {},
   "outputs": [
    {
     "data": {
      "text/plain": [
       "City\n",
       "Abu Dhabi          4.300000\n",
       "Agra               3.965000\n",
       "Ahmedabad          4.161905\n",
       "Albany             3.555000\n",
       "Allahabad          3.395000\n",
       "                     ...   \n",
       "Weirton            3.900000\n",
       "Wellington City    4.250000\n",
       "Winchester Bay     3.200000\n",
       "Yorkton            3.300000\n",
       "��stanbul          4.292857\n",
       "Name: Aggregate rating, Length: 141, dtype: float64"
      ]
     },
     "execution_count": 36,
     "metadata": {},
     "output_type": "execute_result"
    }
   ],
   "source": [
    "# avg rating for each city\n",
    "avg_rating_per_city = df.groupby('City')['Aggregate rating'].mean()\n",
    "avg_rating_per_city"
   ]
  },
  {
   "cell_type": "code",
   "execution_count": 37,
   "id": "a730c5a6-cf84-461f-afd6-100416b269db",
   "metadata": {},
   "outputs": [
    {
     "data": {
      "text/plain": [
       "'Inner City'"
      ]
     },
     "execution_count": 37,
     "metadata": {},
     "output_type": "execute_result"
    }
   ],
   "source": [
    "# determine the city with the highest avg rating \n",
    "city_with_highest_avg_rating = avg_rating_per_city.idxmax()\n",
    "city_with_highest_avg_rating"
   ]
  },
  {
   "cell_type": "code",
   "execution_count": 38,
   "id": "d34f0062-e15b-40fe-aa12-8a23f8daa924",
   "metadata": {},
   "outputs": [
    {
     "data": {
      "text/plain": [
       "4.9"
      ]
     },
     "execution_count": 38,
     "metadata": {},
     "output_type": "execute_result"
    }
   ],
   "source": [
    "highest_avg_rating = avg_rating_per_city.max()\n",
    "highest_avg_rating"
   ]
  },
  {
   "cell_type": "code",
   "execution_count": 41,
   "id": "4eda11fa-a1fb-4cd7-9c75-e8ab165315b6",
   "metadata": {},
   "outputs": [
    {
     "data": {
      "text/plain": [
       "{'City with Most Restaurants': 'New Delhi',\n",
       " 'Number of Restaurants': 5473,\n",
       " 'City With Highest Avg Rating': 'Inner City',\n",
       " 'Highest Avg Rating': 4.9}"
      ]
     },
     "execution_count": 41,
     "metadata": {},
     "output_type": "execute_result"
    }
   ],
   "source": [
    "result ={\n",
    "    'City with Most Restaurants':city_with_most_rest,\n",
    "    'Number of Restaurants': most_rest_count,\n",
    "    'City With Highest Avg Rating': city_with_highest_avg_rating,\n",
    "    'Highest Avg Rating':highest_avg_rating\n",
    "}\n",
    "result"
   ]
  },
  {
   "cell_type": "code",
   "execution_count": 46,
   "id": "ff6afda2-f4a0-4215-92b4-58cc0bee6fae",
   "metadata": {},
   "outputs": [
    {
     "ename": "NameError",
     "evalue": "name 'Print' is not defined",
     "output_type": "error",
     "traceback": [
      "\u001b[1;31m---------------------------------------------------------------------------\u001b[0m",
      "\u001b[1;31mNameError\u001b[0m                                 Traceback (most recent call last)",
      "Cell \u001b[1;32mIn[46], line 1\u001b[0m\n\u001b[1;32m----> 1\u001b[0m Print(\u001b[38;5;124m\"\u001b[39m\u001b[38;5;124mCity with Most Restaurants:\u001b[39m\u001b[38;5;124m\"\u001b[39m, city_with_most_rest)\n\u001b[0;32m      2\u001b[0m Print(\u001b[38;5;124m\"\u001b[39m\u001b[38;5;124mNumber of Restaurants\u001b[39m\u001b[38;5;124m\"\u001b[39m, most_rest_count)\n\u001b[0;32m      3\u001b[0m Print(\u001b[38;5;124m\"\u001b[39m\u001b[38;5;124mCity With Highest Avg Rating:\u001b[39m\u001b[38;5;124m\"\u001b[39m, city_with_highest_avg_rating)\n",
      "\u001b[1;31mNameError\u001b[0m: name 'Print' is not defined"
     ]
    }
   ],
   "source": [
    "Print(\"City with Most Restaurants:\", city_with_most_rest)\n",
    "Print(\"Number of Restaurants\", most_rest_count)\n",
    "Print(\"City With Highest Avg Rating:\", city_with_highest_avg_rating)\n",
    "Print(\"Highest Avg Rating:\", highest_avg_rating)"
   ]
  },
  {
   "cell_type": "code",
   "execution_count": null,
   "id": "9c14c8f9-5064-4a39-9980-05dac535f2c0",
   "metadata": {},
   "outputs": [],
   "source": []
  }
 ],
 "metadata": {
  "kernelspec": {
   "display_name": "Python 3 (ipykernel)",
   "language": "python",
   "name": "python3"
  },
  "language_info": {
   "codemirror_mode": {
    "name": "ipython",
    "version": 3
   },
   "file_extension": ".py",
   "mimetype": "text/x-python",
   "name": "python",
   "nbconvert_exporter": "python",
   "pygments_lexer": "ipython3",
   "version": "3.12.4"
  }
 },
 "nbformat": 4,
 "nbformat_minor": 5
}
